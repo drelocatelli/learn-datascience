{
 "cells": [
  {
   "attachments": {},
   "cell_type": "markdown",
   "metadata": {},
   "source": [
    "## Converting Files"
   ]
  },
  {
   "attachments": {},
   "cell_type": "markdown",
   "metadata": {},
   "source": [
    "### Converting files CSV from XLSX"
   ]
  },
  {
   "cell_type": "code",
   "execution_count": 7,
   "metadata": {},
   "outputs": [],
   "source": [
    "import pandas as pd\n",
    "import os\n",
    "import openpyxl as pyxl\n",
    "\n",
    "folderPath = input(\"Please select folder path\")\n",
    "ext = \".csv\"\n",
    "for filename in os.listdir(folderPath):\n",
    "    if filename.endswith(ext):\n",
    "        csv_filePath = os.path.join(folderPath, filename)\n",
    "        xlsx_filePath = os.path.join(folderPath, os.path.splitext(filename)[0] + '.xlsx')\n",
    "        df = pd.read_csv(csv_filePath)\n",
    "        df.to_excel(xlsx_filePath, index=False)"
   ]
  },
  {
   "attachments": {},
   "cell_type": "markdown",
   "metadata": {},
   "source": [
    "### Converting files CSV from XLSX using comma separator"
   ]
  },
  {
   "cell_type": "code",
   "execution_count": 17,
   "metadata": {},
   "outputs": [
    {
     "name": "stdout",
     "output_type": "stream",
     "text": [
      "data\n"
     ]
    }
   ],
   "source": [
    "import pandas as pd\n",
    "import openpyxl as pyxl\n",
    "from openpyxl.utils.dataframe import dataframe_to_rows \n",
    "from openpyxl.styles import numbers\n",
    "\n",
    "folderPath = input(\"Please select folder path\")\n",
    "folderPath = 'data' if len(folderPath) == 0 else folderPath\n",
    "\n",
    "for filename in os.listdir(folderPath):\n",
    "    if filename.endswith('.csv'):\n",
    "        csv_filePath = os.path.join(folderPath, filename)\n",
    "        xlsx_filePath = os.path.join(folderPath, os.path.splitext(filename)[0] + '.xlsx')\n",
    "\n",
    "        df = pd.read_csv(csv_filePath)\n",
    "\n",
    "        workbook = pyxl.Workbook()\n",
    "        sheet = workbook.active\n",
    "        rows = dataframe_to_rows(df, index=False, header=True)\n",
    "\n",
    "        for r_idx, row in enumerate(rows, start=1):\n",
    "            for c_idx, value in enumerate(row, start=1):\n",
    "                sheet.cell(row=r_idx, column=c_idx, value=value)\n",
    "                if isinstance(value, (int, float)):\n",
    "                    sheet.cell(row=r_idx, column=c_idx).number_format = numbers.FORMAT_NUMBER_COMMA_SEPARATED1\n",
    "        workbook.save(xlsx_filePath)\n"
   ]
  }
 ],
 "metadata": {
  "kernelspec": {
   "display_name": "Python 3",
   "language": "python",
   "name": "python3"
  },
  "language_info": {
   "codemirror_mode": {
    "name": "ipython",
    "version": 3
   },
   "file_extension": ".py",
   "mimetype": "text/x-python",
   "name": "python",
   "nbconvert_exporter": "python",
   "pygments_lexer": "ipython3",
   "version": "3.10.6"
  },
  "orig_nbformat": 4
 },
 "nbformat": 4,
 "nbformat_minor": 2
}
